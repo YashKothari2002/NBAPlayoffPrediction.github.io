{
 "cells": [
  {
   "cell_type": "code",
   "execution_count": 256,
   "id": "moral-conversation",
   "metadata": {},
   "outputs": [],
   "source": [
    "import pandas as pd\n",
    "import re\n",
    "import requests\n",
    "from bs4 import BeautifulSoup"
   ]
  },
  {
   "cell_type": "code",
   "execution_count": 257,
   "id": "finished-soldier",
   "metadata": {},
   "outputs": [],
   "source": [
    "index = '21'\n",
    "page = requests.get('https://www.espn.com/nba/stats/team/_/season/20' + index + '/seasontype/2')\n",
    "soup = BeautifulSoup(page.text, 'html.parser')"
   ]
  },
  {
   "cell_type": "code",
   "execution_count": 258,
   "id": "marked-cloud",
   "metadata": {},
   "outputs": [],
   "source": [
    "teams = []\n",
    "stats = []\n",
    "for img in soup.find_all('img', attrs={'class':'Image Logo Logo__sm'}):\n",
    "    teams.append(img['title'])\n",
    "for nm in soup.find_all('th', attrs={'class':'Table__TH'}):\n",
    "    stats.append(nm.string)\n",
    "stats.remove('RK')\n",
    "stats.remove(None)\n",
    "stats.insert(2,'PTS')\n",
    "final = pd.DataFrame(columns=stats)\n",
    "teams.insert(5,'Seattle SuperSonics')\n",
    "teams.insert(12,'New Jersey Nets')\n",
    "final['Team'] = teams"
   ]
  },
  {
   "cell_type": "code",
   "execution_count": 255,
   "id": "vietnamese-adoption",
   "metadata": {},
   "outputs": [],
   "source": [
    "data = []\n",
    "for dt in soup.find_all('tr', attrs={'class':'Table__TR Table__TR--sm Table__even'}):\n",
    "    for d in dt.find_all('td', attrs={'class':'Table__TD'}):\n",
    "        data.append(d.string)\n",
    "data = data[58:]\n",
    "for i in range(30):\n",
    "    for j in range(1,20):\n",
    "        final.loc[i][j] = data.pop(0)\n",
    "final.to_csv(r'20' + index + 'stats.csv', index = False)"
   ]
  },
  {
   "cell_type": "code",
   "execution_count": null,
   "id": "assigned-copying",
   "metadata": {},
   "outputs": [],
   "source": []
  }
 ],
 "metadata": {
  "kernelspec": {
   "display_name": "Python 3",
   "language": "python",
   "name": "python3"
  },
  "language_info": {
   "codemirror_mode": {
    "name": "ipython",
    "version": 3
   },
   "file_extension": ".py",
   "mimetype": "text/x-python",
   "name": "python",
   "nbconvert_exporter": "python",
   "pygments_lexer": "ipython3",
   "version": "3.8.5"
  }
 },
 "nbformat": 4,
 "nbformat_minor": 5
}
