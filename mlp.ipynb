{
  "nbformat": 4,
  "nbformat_minor": 0,
  "metadata": {
    "colab": {
      "name": "mlp.ipynb",
      "provenance": [],
      "collapsed_sections": []
    },
    "kernelspec": {
      "name": "python3",
      "display_name": "Python 3"
    },
    "language_info": {
      "name": "python"
    }
  },
  "cells": [
    {
      "cell_type": "code",
      "metadata": {
        "id": "gwKP4beA4WKH",
        "colab": {
          "base_uri": "https://localhost:8080/"
        },
        "outputId": "84ec490d-2079-4441-ad01-6e820b5dc40a"
      },
      "source": [
        "from __future__ import print_function\n",
        "import tensorflow as tf\n",
        "from tensorflow.keras import layers\n",
        "from tensorflow.keras.layers.experimental import preprocessing\n",
        "import keras\n",
        "from keras.datasets import mnist\n",
        "from keras.models import Sequential\n",
        "from keras.layers import Dense, Dropout, Flatten\n",
        "from keras.layers import Conv2D, MaxPooling2D\n",
        "from keras.optimizers import SGD\n",
        "from keras import backend as K\n",
        "import matplotlib.pyplot as plt\n",
        "import pandas as pd\n",
        "import numpy as np\n",
        "from google.colab import drive \n",
        "drive.mount('/content/drive')\n",
        "!pwd\n",
        "import os\n",
        "os.chdir('/content/drive/My Drive/Colab Notebooks/Data/predicting-nba-games-master')\n",
        "!pwd"
      ],
      "execution_count": null,
      "outputs": [
        {
          "output_type": "stream",
          "text": [
            "Drive already mounted at /content/drive; to attempt to forcibly remount, call drive.mount(\"/content/drive\", force_remount=True).\n",
            "/content/drive/My Drive/Colab Notebooks/Data\n",
            "/content/drive/My Drive/Colab Notebooks/Data/predicting-nba-games-master\n"
          ],
          "name": "stdout"
        }
      ]
    },
    {
      "cell_type": "code",
      "metadata": {
        "id": "eHj4bN5h4m7Y"
      },
      "source": [
        "training_set = pd.read_csv('games.csv')\n",
        "training_set.pop('GAME_STATUS_TEXT')\n",
        "training_set.pop('TEAM_ID_home')\n",
        "training_set.pop('TEAM_ID_away')\n",
        "training_set.pop('HOME_TEAM_ID')\n",
        "training_set.pop('VISITOR_TEAM_ID')\n",
        "training_set.pop('PTS_home')\n",
        "training_set.pop('PTS_away')\n",
        "training_set.pop('GAME_DATE_EST')\n",
        "training_set.pop('SEASON')\n",
        "training_set.pop('GAME_ID')\n",
        "labels = training_set.pop('HOME_TEAM_WINS')\n",
        "training_set = np.asarray(training_set)\n",
        "training_set = tf.convert_to_tensor(training_set, dtype=tf.int64) \n",
        "\n",
        "\n"
      ],
      "execution_count": 102,
      "outputs": []
    },
    {
      "cell_type": "code",
      "metadata": {
        "id": "IzZ_hEYZ8lrl"
      },
      "source": [
        "r = 0.0004\n",
        "norm_pred_model = tf.keras.Sequential([\n",
        "                                       layers.Dense(units=100, activation='tanh', kernel_regularizer = keras.regularizers.l2(l = r)),\n",
        "                                       layers.Dropout(0.2),\n",
        "                                       layers.Dense(units=100, activation='tanh', kernel_regularizer = keras.regularizers.l2(l = r)),\n",
        "                                       layers.Dropout(0.2),\n",
        "                                       layers.Dense(units=100, activation = 'tanh'),\n",
        "                                       layers.Dropout(0.2),\n",
        "                                       layers.Dense(units=50, activation = 'tanh'),\n",
        "                                       layers.Dropout(0.2),\n",
        "                                       layers.Dense(units=50, activation = 'tanh'),\n",
        "                                       layers.Dropout(0.2),\n",
        "                                       layers.Dense(units=50, activation = 'tanh'),\n",
        "                                       layers.Dropout(0.2),\n",
        "                                       layers.Dense(units=1, activation = 'sigmoid')\n",
        "])\n",
        "norm_pred_model.compile(loss = tf.keras.losses.binary_crossentropy, optimizer = tf.optimizers.Adam())\n",
        "# norm_pred_model.fit(training_set, labels , epochs = 126)\n"
      ],
      "execution_count": 105,
      "outputs": []
    },
    {
      "cell_type": "code",
      "metadata": {
        "id": "JzEFfYU8ErfV"
      },
      "source": [
        ""
      ],
      "execution_count": null,
      "outputs": []
    }
  ]
}