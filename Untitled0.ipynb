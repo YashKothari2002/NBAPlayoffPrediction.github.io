{
  "nbformat": 4,
  "nbformat_minor": 0,
  "metadata": {
    "colab": {
      "name": "Untitled0.ipynb",
      "provenance": [],
      "collapsed_sections": []
    },
    "kernelspec": {
      "name": "python3",
      "display_name": "Python 3"
    },
    "language_info": {
      "name": "python"
    }
  },
  "cells": [
    {
      "cell_type": "code",
      "metadata": {
        "id": "gwKP4beA4WKH",
        "colab": {
          "base_uri": "https://localhost:8080/"
        },
        "outputId": "84ec490d-2079-4441-ad01-6e820b5dc40a"
      },
      "source": [
        "from __future__ import print_function\n",
        "import tensorflow as tf\n",
        "from tensorflow.keras import layers\n",
        "from tensorflow.keras.layers.experimental import preprocessing\n",
        "import keras\n",
        "from keras.datasets import mnist\n",
        "from keras.models import Sequential\n",
        "from keras.layers import Dense, Dropout, Flatten\n",
        "from keras.layers import Conv2D, MaxPooling2D\n",
        "from keras.optimizers import SGD\n",
        "from keras import backend as K\n",
        "import matplotlib.pyplot as plt\n",
        "import pandas as pd\n",
        "import numpy as np\n",
        "from google.colab import drive \n",
        "drive.mount('/content/drive')\n",
        "!pwd\n",
        "import os\n",
        "os.chdir('/content/drive/My Drive/Colab Notebooks/Data/predicting-nba-games-master')\n",
        "!pwd"
      ],
      "execution_count": 75,
      "outputs": [
        {
          "output_type": "stream",
          "text": [
            "Drive already mounted at /content/drive; to attempt to forcibly remount, call drive.mount(\"/content/drive\", force_remount=True).\n",
            "/content/drive/My Drive/Colab Notebooks/Data\n",
            "/content/drive/My Drive/Colab Notebooks/Data/predicting-nba-games-master\n"
          ],
          "name": "stdout"
        }
      ]
    },
    {
      "cell_type": "code",
      "metadata": {
        "id": "eHj4bN5h4m7Y",
        "colab": {
          "base_uri": "https://localhost:8080/"
        },
        "outputId": "5a9af843-3d3b-486f-ccb3-648a5e37d92f"
      },
      "source": [
        "training_set = pd.read_csv('games.csv')\n",
        "training_set.pop('GAME_STATUS_TEXT')\n",
        "training_set.pop('TEAM_ID_home')\n",
        "training_set.pop('TEAM_ID_away')\n",
        "training_set.pop('HOME_TEAM_ID')\n",
        "training_set.pop('VISITOR_TEAM_ID')\n",
        "training_set.pop('PTS_home')\n",
        "training_set.pop('PTS_away')\n",
        "training_set.pop('GAME_DATE_EST')\n",
        "training_set.pop('SEASON')\n",
        "training_set.pop('GAME_ID')\n",
        "labels = training_set.pop('HOME_TEAM_WINS')\n",
        "training_set = np.asarray(training_set)\n",
        "training_set = tf.convert_to_tensor(training_set, dtype=tf.float64) \n",
        "print(training_set)\n",
        "!python pre_processing.py\n",
        "\n"
      ],
      "execution_count": 96,
      "outputs": [
        {
          "output_type": "stream",
          "text": [
            "tf.Tensor(\n",
            "[[ 0.354  0.9    0.229 ...  0.226 20.    61.   ]\n",
            " [ 0.364  0.4    0.31  ...  0.275 28.    56.   ]\n",
            " [ 0.592  0.805  0.542 ...  0.488 27.    37.   ]\n",
            " ...\n",
            " [ 0.448  0.682  0.5   ...  0.5   19.    43.   ]\n",
            " [ 0.44   0.771  0.333 ...  0.385 18.    45.   ]\n",
            " [ 0.431  0.679  0.333 ...  0.438 19.    42.   ]], shape=(23195, 10), dtype=float64)\n",
            "load\n",
            "Traceback (most recent call last):\n",
            "  File \"pre_processing.py\", line 5, in <module>\n",
            "    full_stats = pd.read_csv('full_stats_running.csv', index_col = 'Unnamed: 0')\n",
            "  File \"/usr/local/lib/python3.7/dist-packages/pandas/io/parsers.py\", line 688, in read_csv\n",
            "    return _read(filepath_or_buffer, kwds)\n",
            "  File \"/usr/local/lib/python3.7/dist-packages/pandas/io/parsers.py\", line 460, in _read\n",
            "    data = parser.read(nrows)\n",
            "  File \"/usr/local/lib/python3.7/dist-packages/pandas/io/parsers.py\", line 1198, in read\n",
            "    ret = self._engine.read(nrows)\n",
            "  File \"/usr/local/lib/python3.7/dist-packages/pandas/io/parsers.py\", line 2233, in read\n",
            "    index, names = self._make_index(data, alldata, names)\n",
            "  File \"/usr/local/lib/python3.7/dist-packages/pandas/io/parsers.py\", line 1678, in _make_index\n",
            "    index = self._get_simple_index(alldata, columns)\n",
            "  File \"/usr/local/lib/python3.7/dist-packages/pandas/io/parsers.py\", line 1710, in _get_simple_index\n",
            "    i = ix(idx)\n",
            "  File \"/usr/local/lib/python3.7/dist-packages/pandas/io/parsers.py\", line 1705, in ix\n",
            "    raise ValueError(f\"Index {col} invalid\")\n",
            "ValueError: Index Unnamed: 0 invalid\n"
          ],
          "name": "stdout"
        }
      ]
    },
    {
      "cell_type": "code",
      "metadata": {
        "id": "IzZ_hEYZ8lrl",
        "colab": {
          "base_uri": "https://localhost:8080/"
        },
        "outputId": "da614a4b-2a06-495e-eb63-86f96a4a8314"
      },
      "source": [
        "r = 0.0004\n",
        "norm_pred_model = tf.keras.Sequential([\n",
        "                                       layers.Dense(units=100, activation='tanh', kernel_regularizer = keras.regularizers.l2(l = r)),\n",
        "                                       layers.Dropout(0.2),\n",
        "                                       layers.Dense(units=100, activation='tanh', kernel_regularizer = keras.regularizers.l2(l = r)),\n",
        "                                       layers.Dropout(0.2),\n",
        "                                       layers.Dense(units=100, activation = 'tanh'),\n",
        "                                       layers.Dropout(0.2),\n",
        "                                       layers.Dense(units=50, activation = 'tanh'),\n",
        "                                       layers.Dropout(0.2),\n",
        "                                       layers.Dense(units=50, activation = 'tanh'),\n",
        "                                       layers.Dropout(0.2),\n",
        "                                       layers.Dense(units=50, activation = 'tanh'),\n",
        "                                       layers.Dropout(0.2),\n",
        "                                       layers.Dense(units=1, activation = 'sigmoid')\n",
        "])\n",
        "norm_pred_model.compile(loss = tf.keras.losses.binary_crossentropy, optimizer = tf.optimizers.Adam())\n",
        "norm_pred_model.fit(training_set, labels , epochs = 1)\n",
        "\n",
        "norm_pred_model.predict(training_set)\n"
      ],
      "execution_count": 99,
      "outputs": [
        {
          "output_type": "stream",
          "text": [
            "725/725 [==============================] - 3s 2ms/step - loss: nan\n"
          ],
          "name": "stdout"
        },
        {
          "output_type": "execute_result",
          "data": {
            "text/plain": [
              "array([[nan],\n",
              "       [nan],\n",
              "       [nan],\n",
              "       ...,\n",
              "       [nan],\n",
              "       [nan],\n",
              "       [nan]], dtype=float32)"
            ]
          },
          "metadata": {
            "tags": []
          },
          "execution_count": 99
        }
      ]
    },
    {
      "cell_type": "code",
      "metadata": {
        "id": "JzEFfYU8ErfV"
      },
      "source": [
        ""
      ],
      "execution_count": null,
      "outputs": []
    }
  ]
}